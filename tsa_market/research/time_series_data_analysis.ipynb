{
 "cells": [
  {
   "attachments": {},
   "cell_type": "markdown",
   "metadata": {},
   "source": [
    "# **Time Series Analysis**\n",
    "\n",
    "We will now conduct some basic time series prediction techniques on our data. We will load our similar to the `exploratory_data_analysis` notebook."
   ]
  },
  {
   "cell_type": "code",
   "execution_count": 11,
   "metadata": {},
   "outputs": [],
   "source": [
    "# Data Management\n",
    "import pandas as pd \n",
    "# Statistics\n",
    "from statsmodels.graphics.tsaplots import plot_pacf, plot_acf\n",
    "# Graphics\n",
    "from matplotlib import pyplot as plt\n",
    "\n",
    "TSA_DATA_PATH = '../data/tsa_checkins.csv'"
   ]
  },
  {
   "cell_type": "code",
   "execution_count": 12,
   "metadata": {},
   "outputs": [],
   "source": [
    "# Loading data\n",
    "checkin_data = pd.read_csv(TSA_DATA_PATH)\n",
    "# removing covid data\n",
    "checkin_data['Date'] = pd.to_datetime(checkin_data['Date'])\n",
    "restrictions_start = '2/2/2020'\n",
    "restrictions_end = '11/8/2021'\n",
    "checkin_data = checkin_data[(checkin_data['Date'] < restrictions_start) | (checkin_data['Date'] > restrictions_end)]\n",
    "checkin_data = checkin_data.set_index('Date')"
   ]
  },
  {
   "attachments": {},
   "cell_type": "markdown",
   "metadata": {},
   "source": [
    "## Autocorrelation and Partial Autocorrelation Function\n",
    "\n",
    "#### PACF vs ACF\n",
    "\n",
    "To understand the partial autocorrelation function (PACF), we must first understand the autocorrelation function (ACF). The ACF is a measure of how much 'effect' one time lag may have on another. For example, let's look at the following three lags"
   ]
  },
  {
   "cell_type": "code",
   "execution_count": 13,
   "metadata": {},
   "outputs": [],
   "source": [
    "# +---------------------+\n",
    "# |                     |\n",
    "# t - 2 ---> t - 1 ---> t"
   ]
  },
  {
   "attachments": {},
   "cell_type": "markdown",
   "metadata": {},
   "source": [
    "We can see that the time lag previous *directly* affects the current lag. We can also see that the time lag from two periods ago *directly* affects the current lag. However, this `t-2` lag also *indirectly* affects our `t` lag. This is because `t-2` affects `t-1` which affects `t`.\n",
    "\n",
    "The ACF function is essentially the normal pearson corrleation coefficient between `{t,t-1}` and `{t,t-2}` which will account for the *indirect* effect as well as the direct. \n",
    "\n",
    "The PACF will instead just focus on the *direct* relationship between the respective pair of lags. We utilize the PACF because the ACF value can be misleading. The `t-2` lag may seem like a useful predictor only because its indirect affect (and therefore really just the `t-1` lag). By just focusing on the direct effect we figure which lags are truly best. "
   ]
  },
  {
   "attachments": {},
   "cell_type": "markdown",
   "metadata": {},
   "source": [
    "#### Deriving the PACF \n",
    "\n",
    "We can derive the PACF using the *conditional correlation coefficient* or through regresssion. \n",
    "\n",
    "Finding the PACF for $t_{i-3} with the *conditional correlation coefficient* method would yield...\n",
    "\n",
    "$Cov(t_i, t_{i-3} | t_{i-1}, t_{i-2}) \\over{\\sigma_{t_i | t_{i-1}, t_{i-2}} \\sigma_{t_{i-3} | t_{i-1}, t_{i-2}}}$\n",
    "\n",
    "We can generalize this for how many ever terms but we are essentially finding the correlation of this term (in our example $t_{i-3}$) with the current, given that we already know the affect of all future lags. \n",
    "\n",
    "Using regression...\n",
    "\n",
    "Let's again start with $t_{i-2}$. We first start by fitting a model to predict $t_i$ based on just $t_{i-1}$. We find \n",
    "\n",
    "$t_i = \\beta_{0} + \\beta_{1} t_{i-1} + \\epsilon$\n",
    "\n",
    "where $\\epsilon$ is a white noise. We know that not all of $t_i$ can be explained by just $t_{i-1}$ and so the remaining must be the direct correlation of $t_{i-2}$ or \n",
    "\n",
    "$t_i = \\beta_{0} + \\beta_{1} t_{i-1} + \\beta_{2} t_{i-2} + \\epsilon$\n",
    "\n",
    "**NOTE**: this is overly simplified as the current lag would likely need many more previous lags to explain its value. We would generalize this concept to as many lags as we need. "
   ]
  },
  {
   "attachments": {},
   "cell_type": "markdown",
   "metadata": {},
   "source": [
    "#### Visualizing the ACF and PACF"
   ]
  },
  {
   "cell_type": "code",
   "execution_count": 14,
   "metadata": {},
   "outputs": [
    {
     "ename": "ValueError",
     "evalue": "x is required to have ndim 1 but has ndim 2",
     "output_type": "error",
     "traceback": [
      "\u001b[1;31m---------------------------------------------------------------------------\u001b[0m",
      "\u001b[1;31mValueError\u001b[0m                                Traceback (most recent call last)",
      "Cell \u001b[1;32mIn[14], line 1\u001b[0m\n\u001b[1;32m----> 1\u001b[0m \u001b[43mplot_acf\u001b[49m\u001b[43m(\u001b[49m\u001b[43mcheckin_data\u001b[49m\u001b[43m,\u001b[49m\u001b[43m \u001b[49m\u001b[43mlags\u001b[49m\u001b[38;5;241;43m=\u001b[39;49m\u001b[38;5;28;43mlen\u001b[39;49m\u001b[43m(\u001b[49m\u001b[43mcheckin_data\u001b[49m\u001b[43m)\u001b[49m\u001b[38;5;241;43m-\u001b[39;49m\u001b[38;5;241;43m1\u001b[39;49m\u001b[43m)\u001b[49m\n\u001b[0;32m      2\u001b[0m pyplot\u001b[38;5;241m.\u001b[39mshow()\n",
      "File \u001b[1;32mc:\\Users\\neili\\Desktop\\Kalshi-Strategies\\venv\\Lib\\site-packages\\pandas\\util\\_decorators.py:213\u001b[0m, in \u001b[0;36mdeprecate_kwarg.<locals>._deprecate_kwarg.<locals>.wrapper\u001b[1;34m(*args, **kwargs)\u001b[0m\n\u001b[0;32m    211\u001b[0m         \u001b[38;5;28;01mraise\u001b[39;00m \u001b[38;5;167;01mTypeError\u001b[39;00m(msg)\n\u001b[0;32m    212\u001b[0m     kwargs[new_arg_name] \u001b[38;5;241m=\u001b[39m new_arg_value\n\u001b[1;32m--> 213\u001b[0m \u001b[38;5;28;01mreturn\u001b[39;00m \u001b[43mfunc\u001b[49m\u001b[43m(\u001b[49m\u001b[38;5;241;43m*\u001b[39;49m\u001b[43margs\u001b[49m\u001b[43m,\u001b[49m\u001b[43m \u001b[49m\u001b[38;5;241;43m*\u001b[39;49m\u001b[38;5;241;43m*\u001b[39;49m\u001b[43mkwargs\u001b[49m\u001b[43m)\u001b[49m\n",
      "File \u001b[1;32mc:\\Users\\neili\\Desktop\\Kalshi-Strategies\\venv\\Lib\\site-packages\\statsmodels\\graphics\\tsaplots.py:217\u001b[0m, in \u001b[0;36mplot_acf\u001b[1;34m(x, ax, lags, alpha, use_vlines, adjusted, fft, missing, title, zero, auto_ylims, bartlett_confint, vlines_kwargs, **kwargs)\u001b[0m\n\u001b[0;32m    215\u001b[0m confint \u001b[38;5;241m=\u001b[39m \u001b[38;5;28;01mNone\u001b[39;00m\n\u001b[0;32m    216\u001b[0m \u001b[38;5;66;03m# acf has different return type based on alpha\u001b[39;00m\n\u001b[1;32m--> 217\u001b[0m acf_x \u001b[38;5;241m=\u001b[39m \u001b[43macf\u001b[49m\u001b[43m(\u001b[49m\n\u001b[0;32m    218\u001b[0m \u001b[43m    \u001b[49m\u001b[43mx\u001b[49m\u001b[43m,\u001b[49m\n\u001b[0;32m    219\u001b[0m \u001b[43m    \u001b[49m\u001b[43mnlags\u001b[49m\u001b[38;5;241;43m=\u001b[39;49m\u001b[43mnlags\u001b[49m\u001b[43m,\u001b[49m\n\u001b[0;32m    220\u001b[0m \u001b[43m    \u001b[49m\u001b[43malpha\u001b[49m\u001b[38;5;241;43m=\u001b[39;49m\u001b[43malpha\u001b[49m\u001b[43m,\u001b[49m\n\u001b[0;32m    221\u001b[0m \u001b[43m    \u001b[49m\u001b[43mfft\u001b[49m\u001b[38;5;241;43m=\u001b[39;49m\u001b[43mfft\u001b[49m\u001b[43m,\u001b[49m\n\u001b[0;32m    222\u001b[0m \u001b[43m    \u001b[49m\u001b[43mbartlett_confint\u001b[49m\u001b[38;5;241;43m=\u001b[39;49m\u001b[43mbartlett_confint\u001b[49m\u001b[43m,\u001b[49m\n\u001b[0;32m    223\u001b[0m \u001b[43m    \u001b[49m\u001b[43madjusted\u001b[49m\u001b[38;5;241;43m=\u001b[39;49m\u001b[43madjusted\u001b[49m\u001b[43m,\u001b[49m\n\u001b[0;32m    224\u001b[0m \u001b[43m    \u001b[49m\u001b[43mmissing\u001b[49m\u001b[38;5;241;43m=\u001b[39;49m\u001b[43mmissing\u001b[49m\u001b[43m,\u001b[49m\n\u001b[0;32m    225\u001b[0m \u001b[43m\u001b[49m\u001b[43m)\u001b[49m\n\u001b[0;32m    226\u001b[0m \u001b[38;5;28;01mif\u001b[39;00m alpha \u001b[38;5;129;01mis\u001b[39;00m \u001b[38;5;129;01mnot\u001b[39;00m \u001b[38;5;28;01mNone\u001b[39;00m:\n\u001b[0;32m    227\u001b[0m     acf_x, confint \u001b[38;5;241m=\u001b[39m acf_x[:\u001b[38;5;241m2\u001b[39m]\n",
      "File \u001b[1;32mc:\\Users\\neili\\Desktop\\Kalshi-Strategies\\venv\\Lib\\site-packages\\statsmodels\\tsa\\stattools.py:686\u001b[0m, in \u001b[0;36macf\u001b[1;34m(x, adjusted, nlags, qstat, fft, alpha, bartlett_confint, missing)\u001b[0m\n\u001b[0;32m    682\u001b[0m alpha \u001b[38;5;241m=\u001b[39m float_like(alpha, \u001b[38;5;124m\"\u001b[39m\u001b[38;5;124malpha\u001b[39m\u001b[38;5;124m\"\u001b[39m, optional\u001b[38;5;241m=\u001b[39m\u001b[38;5;28;01mTrue\u001b[39;00m)\n\u001b[0;32m    683\u001b[0m missing \u001b[38;5;241m=\u001b[39m string_like(\n\u001b[0;32m    684\u001b[0m     missing, \u001b[38;5;124m\"\u001b[39m\u001b[38;5;124mmissing\u001b[39m\u001b[38;5;124m\"\u001b[39m, options\u001b[38;5;241m=\u001b[39m(\u001b[38;5;124m\"\u001b[39m\u001b[38;5;124mnone\u001b[39m\u001b[38;5;124m\"\u001b[39m, \u001b[38;5;124m\"\u001b[39m\u001b[38;5;124mraise\u001b[39m\u001b[38;5;124m\"\u001b[39m, \u001b[38;5;124m\"\u001b[39m\u001b[38;5;124mconservative\u001b[39m\u001b[38;5;124m\"\u001b[39m, \u001b[38;5;124m\"\u001b[39m\u001b[38;5;124mdrop\u001b[39m\u001b[38;5;124m\"\u001b[39m)\n\u001b[0;32m    685\u001b[0m )\n\u001b[1;32m--> 686\u001b[0m x \u001b[38;5;241m=\u001b[39m \u001b[43marray_like\u001b[49m\u001b[43m(\u001b[49m\u001b[43mx\u001b[49m\u001b[43m,\u001b[49m\u001b[43m \u001b[49m\u001b[38;5;124;43m\"\u001b[39;49m\u001b[38;5;124;43mx\u001b[39;49m\u001b[38;5;124;43m\"\u001b[39;49m\u001b[43m)\u001b[49m\n\u001b[0;32m    687\u001b[0m \u001b[38;5;66;03m# TODO: should this shrink for missing=\"drop\" and NaNs in x?\u001b[39;00m\n\u001b[0;32m    688\u001b[0m nobs \u001b[38;5;241m=\u001b[39m x\u001b[38;5;241m.\u001b[39mshape[\u001b[38;5;241m0\u001b[39m]\n",
      "File \u001b[1;32mc:\\Users\\neili\\Desktop\\Kalshi-Strategies\\venv\\Lib\\site-packages\\statsmodels\\tools\\validation\\validation.py:155\u001b[0m, in \u001b[0;36marray_like\u001b[1;34m(obj, name, dtype, ndim, maxdim, shape, order, contiguous, optional, writeable)\u001b[0m\n\u001b[0;32m    153\u001b[0m     \u001b[38;5;28;01mif\u001b[39;00m arr\u001b[38;5;241m.\u001b[39mndim \u001b[38;5;241m!=\u001b[39m ndim:\n\u001b[0;32m    154\u001b[0m         msg \u001b[38;5;241m=\u001b[39m \u001b[38;5;124m\"\u001b[39m\u001b[38;5;132;01m{0}\u001b[39;00m\u001b[38;5;124m is required to have ndim \u001b[39m\u001b[38;5;132;01m{1}\u001b[39;00m\u001b[38;5;124m but has ndim \u001b[39m\u001b[38;5;132;01m{2}\u001b[39;00m\u001b[38;5;124m\"\u001b[39m\n\u001b[1;32m--> 155\u001b[0m         \u001b[38;5;28;01mraise\u001b[39;00m \u001b[38;5;167;01mValueError\u001b[39;00m(msg\u001b[38;5;241m.\u001b[39mformat(name, ndim, arr\u001b[38;5;241m.\u001b[39mndim))\n\u001b[0;32m    156\u001b[0m \u001b[38;5;28;01mif\u001b[39;00m shape \u001b[38;5;129;01mis\u001b[39;00m \u001b[38;5;129;01mnot\u001b[39;00m \u001b[38;5;28;01mNone\u001b[39;00m:\n\u001b[0;32m    157\u001b[0m     \u001b[38;5;28;01mfor\u001b[39;00m actual, req \u001b[38;5;129;01min\u001b[39;00m \u001b[38;5;28mzip\u001b[39m(arr\u001b[38;5;241m.\u001b[39mshape, shape):\n",
      "\u001b[1;31mValueError\u001b[0m: x is required to have ndim 1 but has ndim 2"
     ]
    },
    {
     "data": {
      "image/png": "[encoded data removed]",
      "text/plain": [
       "<Figure size 640x480 with 1 Axes>"
      ]
     },
     "metadata": {},
     "output_type": "display_data"
    }
   ],
   "source": [
    "plot_acf(checkin_data, lags=len(checkin_data)-1)\n",
    "pyplot.show()"
   ]
  },
  {
   "attachments": {},
   "cell_type": "markdown",
   "metadata": {},
   "source": [
    "We see that the lags have very strong correlation with their most previous values. "
   ]
  },
  {
   "cell_type": "code",
   "execution_count": 17,
   "metadata": {},
   "outputs": [
    {
     "data": {
      "image/png": "[encoded data removed]",
      "text/plain": [
       "<Figure size 640x480 with 1 Axes>"
      ]
     },
     "metadata": {},
     "output_type": "display_data"
    }
   ],
   "source": [
    "plot_pacf(checkin_data['Checkins'], lags=50)\n",
    "plt.show()"
   ]
  },
  {
   "attachments": {},
   "cell_type": "markdown",
   "metadata": {},
   "source": [
    "We see correlation between lags which means that we can deploy a regressive model for prediction. We can see huge significance in the first 7-8 terms. We note that the ACF does not seem to just 'shut off' meaning that a MA model would likely not suffice. From these plots we can see that the ACF and PACF functions geometrically decay meaning an ARIMA type model is likely most beneficial. "
   ]
  },
  {
   "attachments": {},
   "cell_type": "markdown",
   "metadata": {},
   "source": [
    "## Seasonal Autoregressive Integrated Moving Average (SARIMA) Model\n",
    "\n",
    "#### Autoregressive (AR) Models\n",
    "\n",
    "Autoregressive models are an attempt to predict future values of a data by using past values of the data only. In a multiple regression, we take a linear combination of predictor. However, in an *autoregression* we just just use *past value* for the regression. An auto regressive model of order $p$ with error term $\\epsilon$ \n",
    "\n",
    "$y_t = c + \\phi_{1} y_{t-1} + \\phi_{2} y_{t-2} + ... + \\phi_{p} y_{t-p} + \\epsilon_{t}$\n",
    "\n",
    "A naive approach is to use all past lagged values. However this typically results in an overfit model. REMEMBER, we ALWAYS prefer a simpler model (that can accomplish the same thing) in statistics. We will only choose lags with a significant enough PACF value (seen outside of the blue box). A basic autoregressive model works best on a stationary dataset. \n",
    "\n",
    "#### Moving Averages (MA) Models\n",
    "\n",
    "A moving average uses *past forecast errors* in a regression style model. We create a moving average of order $q$ with\n",
    "\n",
    "$y_t = c + \\epsilon_{t} + \\theta_{1} y_{t-1} + \\theta_{2} y_{t-2} + ... + \\theta_{q} y_{t-q}$\n",
    "\n",
    "Let's think about a very simple MA that we describe as\n",
    "\n",
    "$f_t = \\mu + \\phi_{1}\\epsilon_{1}$\n",
    "\n",
    "where $\\mu = 10$ and $\\phi_{1} = 0.5$. This is saying change from the baseline by 50% of the last error. For example if we predicted $10$ and the actual value was $12$ then our model's error was $2$ so we would predict $10 + 0.5 \\times 2 = 11$\n",
    "\n",
    "#### Invertibility\n",
    "\n",
    "\n",
    "\n",
    "We can model any $AR(p)$ model as an $MA(\\infty)$ model. Let's show an $AR(1)$ model \n",
    "\n",
    "$y_t = \\phi_{1} y_{t-1} + \\epsilon_{t}$\n",
    "\n",
    "=  $\\phi_{1} (\\phi_{1} y_{t-2} + \\epsilon_{t-1}) + \\epsilon_{t}$\n",
    "\n",
    "= $\\phi_{1}^2 y_{t-2} + \\phi_{1} \\epsilon_{t-1} + \\epsilon_{t}$\n",
    "\n",
    "Similarly, we can show that $MA(1)$ is the same as $AR(\\infty)$ model so long as $|\\phi| < 1$. Note that $L$ is the lag operator\n",
    "\n",
    "$y_t = \\phi\\epsilon_{t-1} + \\epsilon_{t}$ \n",
    "\n",
    "$ = (1 - \\phi L)\\epsilon$\n",
    "\n",
    "${y_t \\over{1 - \\phi L}}  = \\epsilon$ \n",
    "\n",
    "But note that $1 \\over{1 - \\phi L}$ is just the summation of an infinite geometric series with $ r = -\\phi L$ and therefore \n",
    "\n",
    "$(1 + \\phi L + \\phi^2 L^2 + ...)y_t = \\epsilon_t$\n",
    "\n",
    "$y_t = - \\phi y_{t-1} - \\phi^2 y_{t-2} + ... + \\epsilon_t$\n",
    "\n",
    "This is a much more useful approach for the $MA(q)$ model as, in reality, it may be hard to see how much of our forecast was wrong due to error in real time. Instead, we can represent our MA using the equivalent model with previous lags, shutting off after we raise $\\phi$ to a high enough order as $|\\phi| < 1$ \n",
    "\n",
    "#### Integrating\n",
    "\n",
    "Since our data is not stationary, we cannot take advantage of the AR or MA concepts above. However, we can transform our data to make it stationary through integration. By integration we mean differencing lags and predicting the series of the differences. \n",
    "\n",
    "$z_t = y_{t+1} - y_t$\n",
    "\n",
    "We typically will not go beyond a first or second order differencing. We can figure out the timelag's value through our predicted $\\hat{z_t}$\n",
    "\n",
    "$y_{t+1} = \\hat{z_t} + y_t$\n",
    "\n",
    "#### Seasonality\n",
    "\n",
    "Seasonality is a characteristic of timeseries data. It is when the data repeats itself within a year in a predictable fashion. We can remove seasonality through differencing lags that are a year apart. This means \n",
    "\n",
    "$z_t = y_t - y_{t-365}$"
   ]
  },
  {
   "attachments": {},
   "cell_type": "markdown",
   "metadata": {},
   "source": [
    "## Sources \n",
    "\n",
    "**Autocorrelation and Partial Autocorrelation Function**\n",
    "\n",
    "[`1`] https://www.youtube.com/watch?v=DeORzP0go5I&list=PLvcbYUQ5t0UHOLnBzl46_Q6QKtFgfMGc3&index=2\n",
    "\n",
    "ritvikmath youtube which is helpful for understanding what the PACF is \n",
    "\n",
    "[`2`] https://timeseriesreasoning.com/contents/partial-auto-correlation/ \n",
    "\n",
    "Timeseries reasoning blog. Mainly used for deriving the actual formula \n",
    "\n",
    "[`3`] https://www.youtube.com/watch?v=XESy8JImWr0\n",
    "\n",
    "OK youtube for understanding the PACF, helpful first understanding conditional correlation coefficient\n",
    "\n",
    "[`4`] https://www.youtube.com/watch?v=-vSzKfqcTDg\n",
    "\n",
    "Analytics University youtube on how to utilize the ACF and PACF plots\n",
    "\n",
    "**Autoregressive Integrated Moving Average (ARIMA) Model**\n",
    "\n",
    "[`1`] https://www.youtube.com/watch?v=5-2C4eO4cPQ&list=PLvcbYUQ5t0UHOLnBzl46_Q6QKtFgfMGc3&index=9\n",
    "\n",
    "ritvikmath overview of the autoregressive model \n",
    "\n",
    "[`2`] https://otexts.com/fpp2/arima.html\n",
    "\n",
    "Basic overview of an ARIMA model\n",
    "\n",
    "[`3`] https://online.stat.psu.edu/stat510/ \n",
    "Excellent overview of time series analysis by Penn State. Lessons 2-3 relevant to this section"
   ]
  }
 ],
 "metadata": {
  "kernelspec": {
   "display_name": "venv",
   "language": "python",
   "name": "python3"
  },
  "language_info": {
   "codemirror_mode": {
    "name": "ipython",
    "version": 3
   },
   "file_extension": ".py",
   "mimetype": "text/x-python",
   "name": "python",
   "nbconvert_exporter": "python",
   "pygments_lexer": "ipython3",
   "version": "3.12.0"
  },
  "orig_nbformat": 4
 },
 "nbformat": 4,
 "nbformat_minor": 2
}
