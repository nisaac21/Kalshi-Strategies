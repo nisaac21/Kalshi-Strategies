{
 "cells": [
  {
   "attachments": {},
   "cell_type": "markdown",
   "metadata": {},
   "source": [
    "# **Time Series Analysis**\n",
    "\n",
    "We will now conduct some basic time series prediction techniques on our data. We will load our similar to the `exploratory_data_analysis` notebook."
   ]
  },
  {
   "cell_type": "code",
   "execution_count": 4,
   "metadata": {},
   "outputs": [],
   "source": [
    "# Data science packages\n",
    "import pandas as pd \n",
    "\n",
    "TSA_DATA_PATH = '../data/tsa_checkins.csv'"
   ]
  },
  {
   "cell_type": "code",
   "execution_count": 5,
   "metadata": {},
   "outputs": [],
   "source": [
    "# Loading data\n",
    "checkin_data = pd.read_csv(TSA_DATA_PATH)[::-1]\n",
    "# removing covid data\n",
    "checkin_data['Date'] = pd.to_datetime(checkin_data['Date'])\n",
    "restrictions_start = '2/2/2020'\n",
    "restrictions_end = '11/8/2021'\n",
    "checkins_ex_covid = checkin_data[(checkin_data['Date'] < restrictions_start) | (checkin_data['Date'] > restrictions_end)]"
   ]
  },
  {
   "attachments": {},
   "cell_type": "markdown",
   "metadata": {},
   "source": [
    "## Partial Autocorrelation Function\n",
    "\n",
    "#### PACF vs ACF\n",
    "\n",
    "To understand the partial autocorrelation function (PACF), we must first understand the autocorrelation function (ACF). The ACF is a measure of how much 'effect' one time lag may have on another. For example, let's look at the following three lags"
   ]
  },
  {
   "cell_type": "code",
   "execution_count": 6,
   "metadata": {},
   "outputs": [],
   "source": [
    "# +---------------------+\n",
    "# |                     |\n",
    "# t - 2 ---> t - 1 ---> t"
   ]
  },
  {
   "attachments": {},
   "cell_type": "markdown",
   "metadata": {},
   "source": [
    "We can see that the time lag previous *directly* affects the current lag. We can also see that the time lag from two periods ago *directly* affects the current lag. However, this `t-2` lag also *indirectly* affects our `t` lag. This is because `t-2` affects `t-1` which affects `t`.\n",
    "\n",
    "The ACF function is essentially the normal pearson corrleation coefficient between `{t,t-1}` and `{t,t-2}` which will account for the *indirect* effect as well as the direct. \n",
    "\n",
    "The PACF will instead just focus on the *direct* relationship between the respective pair of lags. We utilize the PACF because the ACF value can be misleading. The `t-2` lag may seem like a useful predictor only because its indirect affect (and therefore really just the `t-1` lag). By just focusing on the direct effect we figure which lags are truly best. "
   ]
  },
  {
   "attachments": {},
   "cell_type": "markdown",
   "metadata": {},
   "source": [
    "#### Deriving the PACF \n",
    "\n",
    "We can derive the PACF using the *conditional correlation coefficient* or through regresssion. \n",
    "\n",
    "Finding the PACF for $t_{i-3} with the *conditional correlation coefficient* method would yield...\n",
    "\n",
    "$Cov(t_i, t_{i-3} | t_{i-1}, t_{i-2}) \\over{\\sigma_{t_i | t_{i-1}, t_{i-2}} \\sigma_{t_{i-3} | t_{i-1}, t_{i-2}}}$\n",
    "\n",
    "We can generalize this for how many ever terms but we are essentially finding the correlation of this term (in our example $t_{i-3}$) with the current, given that we already know the affect of all future lags. \n",
    "\n",
    "Using regression...\n",
    "\n",
    "Let's again start with $t_{i-2}. We first start by fitting a model to predict $t_i$ based on just $t_{i-1}$. We find \n",
    "\n",
    "$t_i = \\beta_{0} + \\beta_{1} t_{i-1} + \\epsilon$\n",
    "\n",
    "where $\\epsilon$ is a white noise. We know that not all of $t_i$ can be explained by just $t_{i-1}$ and so the remaining must be the direct correlation of $t_{i-2}$ or \n",
    "\n",
    "$t_i = \\beta_{0} + \\beta_{1} t_{i-1} + \\beta_{2} t_{i-2} + \\epsilon$\n",
    "\n",
    "**NOTE**: this is overly simplified as the current lag would likely need many more previous lags to explain its value. We would generalize this concept to as many lags as we need. "
   ]
  }
 ],
 "metadata": {
  "kernelspec": {
   "display_name": "venv",
   "language": "python",
   "name": "python3"
  },
  "language_info": {
   "codemirror_mode": {
    "name": "ipython",
    "version": 3
   },
   "file_extension": ".py",
   "mimetype": "text/x-python",
   "name": "python",
   "nbconvert_exporter": "python",
   "pygments_lexer": "ipython3",
   "version": "3.10.11"
  },
  "orig_nbformat": 4
 },
 "nbformat": 4,
 "nbformat_minor": 2
}
